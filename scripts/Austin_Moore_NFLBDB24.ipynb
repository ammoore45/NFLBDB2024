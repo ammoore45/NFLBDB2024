{
 "cells": [
  {
   "cell_type": "markdown",
   "id": "de265ac9",
   "metadata": {},
   "source": [
    "# To Breakdown or not to Breakdown : An Open Field Tackle Analysis\n",
    "\n",
    "## Introduction\n",
    "\n",
    "Tackling in American football is a fundamental aspect of the game, serving as a decisive defensive skill that can shape the course of a play or even an entire game. These dynamic events encompass countless scenarios that elicit a unique response from the defender. Arguably the most difficult of these scenarios occurs in the open field. Without the leverage of teammates or the sideline, proper technique is critical to ensure execution at the point of attack. One such technique is what this paper will refer to as “breaking down” for the tackle. This involves slowing down and adopting a balanced stance. This makes it easier for the defender to react to the movements of the ball carrier. The assumed tradeoff of a break down is an increase in the likelihood of completing a successful tackle for time and distance gained by the ball carrier. The purpose of this report is to isolate open field scenarios and test if breaking down for a tackle is associated with the execution of such."
   ]
  },
  {
   "cell_type": "markdown",
   "id": "205300da",
   "metadata": {},
   "source": [
    "## Methodology\n",
    "\n",
    "### Data Preperation\n",
    "\n",
    "All data used in this analysis was supplied as part of the 2024 NFL Big Data Bowl. Before  breakdowns can be analyzed, all open field tackle situations within the ‘Tracking’ dataset will need to be identified. This paper defines an open field tackle as satisfying the following requirements when the defender is within five yards of the ball carrier:\n",
    "\n",
    "<ol>\n",
    "<li> No other players within the tackling lane. This is verified by checking that all players not involved in the open field tackle are outside the $(x_{min}-1,y_{min}-1)$x$(x_{max}+1,y_{max}+1)$ box built off of the tackler and ball carriers positions. The aim is to verify that there is ample space to consider the event as having occurred in the open field. </li>\n",
    "<br/>\n",
    "<div>\n",
    "<img src=\"Diagrams/checkOpenField.png\", style=\"width:400px; height:600px;\"/>\n",
    "</div>\n",
    "<br/>\n",
    "<li> Neither the ball carrier nor the tackler is within 5yards from either sideline. This is to eliminate defenders utilizing the sideline to force a one-way go. </li>\n",
    "\n",
    "<li> The x distance between the defender and the endzone that he is guarding is less than the distance between the ball carrier and the same endzone. This exclusion aims to remove chase scenarios from the sampled set. </li>\n",
    "\n",
    "<li> The orientation of both the ballcarrier and the tackler is within 45 degrees from the line perpendicular to the line of scrimmage before the ball is snapped. The intention is to eliminate scenarios where the ball carrier bounces horizontally and instigates a chase from the defender. </li>\n",
    "<br/>\n",
    "<div>\n",
    "<img src=\"Diagrams/checkFaceForward.png\", style=\"width:600px; height:400px;\"/>\n",
    "</div>\n",
    "</ol>"
   ]
  },
  {
   "cell_type": "markdown",
   "id": "2c6a3fcb",
   "metadata": {},
   "source": [
    "Please note that all items except for exclusion 1 are not applied when the distance between the ball carrier and the defender is less than 1yd. A collision is assumed at distances less than 1 yard which could falsely violate said rules.\n",
    "\n",
    "<br/>\n",
    "\n",
    "Each _tackle_ and _pff_missedTackle_ within the _tackles_ dataset is then independently held against the above requirements. This is done by iterating through each defender in the _tackles_ dataset Only _pff_missedTackle_ events are evaluated on plays where an assist is recorded as an assist implies dependency of multiple defenders. Additionally, all identified open field tackle scenarios where a defensive lineman (NT, DT, DE) is the potential tackler have also been removed. The result is a set of __225 open field scenarios with a tackle success rate of 67.1%__. \n",
    "\n",
    "The key features identified during the data scrubbine process are mean acceleration for both the ball carrier (_cAccMean_) and the potential tackler (_tAccMean_). Both are calculated within the $1yd-5yd$ range. Also, both values are created from the difference in the _s_ column so that deceleration values are captured with a negative value and vice-versa. The tackler and ball carrier acceleration values are then utilized to construct categorical variables. This is defined as such for each carrier and tackler identified, $x$:\n",
    "<br/>\n",
    "\n",
    "<nl>\n",
    "<li> $\\text{xSlowed} = (\\text{xAccMean} <= -1\\frac{yd}{s^{s}})$\n",
    "<li> $\\text{xSteady} = (-1\\frac{yd}{s^{s}} < \\text{xAccMean} < 1\\frac{yd}{s^{s}}$)\n",
    "<li> $\\text{xIncrease} = (\\text{xAccMean} >=  1\\frac{yd}{s^{s}}$)\n",
    "</nl>"
   ]
  },
  {
   "cell_type": "markdown",
   "id": "6209e62e",
   "metadata": {},
   "source": [
    "### Analysis\n",
    "As previously stated, the intention of this report is to understand if there is an association between the ball carrier breaking down for a tackle and the execution of assignment. The method chosen to prove such is the Chi-Square Test of Association. The variables to be tested are the tSlowed variable indicating that a player has significantly decelerated within the final 5 yards and the resulting tackle indication. For the purposes of this report, we will assume that tSlowed is indicative of the defender breaking down. Before proceeding with this test ample quantities of samples will need to be validated. This can be done by validating that all expected frequencies have a value of 5."
   ]
  },
  {
   "cell_type": "code",
   "execution_count": 53,
   "id": "752bac0f",
   "metadata": {},
   "outputs": [
    {
     "data": {
      "text/html": [
       "<div>\n",
       "<style scoped>\n",
       "    .dataframe tbody tr th:only-of-type {\n",
       "        vertical-align: middle;\n",
       "    }\n",
       "\n",
       "    .dataframe tbody tr th {\n",
       "        vertical-align: top;\n",
       "    }\n",
       "\n",
       "    .dataframe thead th {\n",
       "        text-align: right;\n",
       "    }\n",
       "</style>\n",
       "<table border=\"1\" class=\"dataframe\">\n",
       "  <thead>\n",
       "    <tr style=\"text-align: right;\">\n",
       "      <th>tackle</th>\n",
       "      <th>0</th>\n",
       "      <th>1</th>\n",
       "    </tr>\n",
       "    <tr>\n",
       "      <th>tSlowed</th>\n",
       "      <th></th>\n",
       "      <th></th>\n",
       "    </tr>\n",
       "  </thead>\n",
       "  <tbody>\n",
       "    <tr>\n",
       "      <th>0</th>\n",
       "      <td>26.604444</td>\n",
       "      <td>55.031111</td>\n",
       "    </tr>\n",
       "    <tr>\n",
       "      <th>1</th>\n",
       "      <td>46.071111</td>\n",
       "      <td>95.297778</td>\n",
       "    </tr>\n",
       "  </tbody>\n",
       "</table>\n",
       "</div>"
      ],
      "text/plain": [
       "tackle           0          1\n",
       "tSlowed                      \n",
       "0        26.604444  55.031111\n",
       "1        46.071111  95.297778"
      ]
     },
     "metadata": {},
     "output_type": "display_data"
    }
   ],
   "source": [
    "display(slow_expected)"
   ]
  },
  {
   "cell_type": "markdown",
   "id": "633816c1",
   "metadata": {},
   "source": [
    "With expected frequency counts validated, prerequisites are met to proceed with the model. An alpha value of 0.05 is assumed. The hypotheses for this test are stated below:\n",
    "<br/>\n",
    "<br/>\n",
    "H0: The defender breaking down is not associated with the tackle outcome\n",
    "<br/>\n",
    "H1: The defender breaking down is associated with the tackle outcome\n",
    "<br/>\n",
    "<br/>\n",
    "Running the test against the stated hypothesis returns X^2 = 1.449 and p = 0.229. This well in excess of our alpha so the null hypothesis is accepted. Now that the test has been completed, more investigative work is warranted. Below is a matrix of successful tackle percentage given both ball carrier and tackler acceleration behavior with 5 yards of contact.\n"
   ]
  },
  {
   "cell_type": "code",
   "execution_count": 54,
   "id": "12aff21b",
   "metadata": {},
   "outputs": [
    {
     "data": {
      "text/html": [
       "<style type=\"text/css\">\n",
       "#T_d7979_row0_col0, #T_d7979_row2_col1, #T_d7979_row2_col2 {\n",
       "  background-color: #00441b;\n",
       "  color: #f1f1f1;\n",
       "}\n",
       "#T_d7979_row0_col1, #T_d7979_row0_col2, #T_d7979_row2_col0 {\n",
       "  background-color: #f7fcfd;\n",
       "  color: #000000;\n",
       "}\n",
       "#T_d7979_row1_col0 {\n",
       "  background-color: #00692a;\n",
       "  color: #f1f1f1;\n",
       "}\n",
       "#T_d7979_row1_col1 {\n",
       "  background-color: #28914d;\n",
       "  color: #f1f1f1;\n",
       "}\n",
       "#T_d7979_row1_col2 {\n",
       "  background-color: #b2e2d7;\n",
       "  color: #000000;\n",
       "}\n",
       "</style>\n",
       "<table id=\"T_d7979\">\n",
       "  <caption>Tackle Success Rate Matrix</caption>\n",
       "  <thead>\n",
       "    <tr>\n",
       "      <th class=\"blank level0\" >&nbsp;</th>\n",
       "      <th id=\"T_d7979_level0_col0\" class=\"col_heading level0 col0\" >tSlowed</th>\n",
       "      <th id=\"T_d7979_level0_col1\" class=\"col_heading level0 col1\" >tSteady</th>\n",
       "      <th id=\"T_d7979_level0_col2\" class=\"col_heading level0 col2\" >tIncrease</th>\n",
       "    </tr>\n",
       "  </thead>\n",
       "  <tbody>\n",
       "    <tr>\n",
       "      <th id=\"T_d7979_level0_row0\" class=\"row_heading level0 row0\" >cSlowed</th>\n",
       "      <td id=\"T_d7979_row0_col0\" class=\"data row0 col0\" >0.680000</td>\n",
       "      <td id=\"T_d7979_row0_col1\" class=\"data row0 col1\" >0.730000</td>\n",
       "      <td id=\"T_d7979_row0_col2\" class=\"data row0 col2\" >0.500000</td>\n",
       "    </tr>\n",
       "    <tr>\n",
       "      <th id=\"T_d7979_level0_row1\" class=\"row_heading level0 row1\" >cSteady</th>\n",
       "      <td id=\"T_d7979_row1_col0\" class=\"data row1 col0\" >0.630000</td>\n",
       "      <td id=\"T_d7979_row1_col1\" class=\"data row1 col1\" >0.810000</td>\n",
       "      <td id=\"T_d7979_row1_col2\" class=\"data row1 col2\" >0.600000</td>\n",
       "    </tr>\n",
       "    <tr>\n",
       "      <th id=\"T_d7979_level0_row2\" class=\"row_heading level0 row2\" >cIncrease</th>\n",
       "      <td id=\"T_d7979_row2_col0\" class=\"data row2 col0\" >0.250000</td>\n",
       "      <td id=\"T_d7979_row2_col1\" class=\"data row2 col1\" >0.840000</td>\n",
       "      <td id=\"T_d7979_row2_col2\" class=\"data row2 col2\" >0.820000</td>\n",
       "    </tr>\n",
       "  </tbody>\n",
       "</table>\n"
      ],
      "text/plain": [
       "<pandas.io.formats.style.Styler at 0x1caf45e1c90>"
      ]
     },
     "metadata": {},
     "output_type": "display_data"
    }
   ],
   "source": [
    "display(dfAccMatrix)"
   ]
  },
  {
   "cell_type": "markdown",
   "id": "afb174d0",
   "metadata": {},
   "source": [
    "The above display indicates that situations where the tackler maintained velocity through the last 5 yards (_tSteady_) outperformed the other tackler acceleration categories across all types of carrier acceleration profiles. By performing the same Chi-Square Test of Association for _tSteady_, (There are sufficient expected frequencies) the result is X^2 = 3.967 and p = 0.046. Hence, the alternative hypothesis can be accepted. tSteady is associated with the tackle outcome."
   ]
  },
  {
   "cell_type": "markdown",
   "id": "0f086e1f",
   "metadata": {},
   "source": [
    "## Discussion\n",
    "Between the deceleration of the defender not being significantly associated with the tackle outcome and maintaining acceleration being associated with the tackle outcome, results seem promising for defensive minds that believe taking away time and space is key to securing an open field tackle. Due to limited sample size and unmeasured factors, further investigation will be needed to better express these initial results. The break down is one of many actions prescribed in most open field tackle procedures. Others factors include but are not limited to helmet placement (cross body v Rugby style), lowering the center of mass, wrapping up the ball carrier, driving through the point of contact, maintaining horizontal leverage, etc. Some of these are measurable with the provided data set and some are not. Regardless, additional data and feature development would allow for more precise and significant results via more advanced analytical methods.\n"
   ]
  },
  {
   "cell_type": "markdown",
   "id": "ba9d3655",
   "metadata": {},
   "source": [
    "## References\n",
    "<br/>\n",
    "Anton, Howard, et al. Applied Finite Mathematics. Brooks/Cole Thomson Learning, 2001.\n",
    "<br/>\n",
    "<br/>\n",
    "Durrett, Richard. Elementary Probability for Applications. Cambridge University Press, 2016.\n",
    "<br/>\n",
    "<br/>\n",
    "Michael Lopez, Thompson Bliss, Ally Blake, Andrew Patton, Jonathan McWilliams, Addison Howard, Will Cukierski. (2023). NFL Big Data Bowl 2024. Kaggle. https://kaggle.com/competitions/nfl-big-data-bowl-2024"
   ]
  },
  {
   "cell_type": "markdown",
   "id": "adbf24e6",
   "metadata": {},
   "source": [
    "### Git\n",
    "\n",
    "https://github.com/ammoore45/NFLBDB2024"
   ]
  },
  {
   "cell_type": "code",
   "execution_count": 51,
   "id": "a13419b2",
   "metadata": {},
   "outputs": [
    {
     "data": {
      "text/html": [
       "<style type=\"text/css\">\n",
       "#T_d7979_row0_col0, #T_d7979_row2_col1, #T_d7979_row2_col2 {\n",
       "  background-color: #00441b;\n",
       "  color: #f1f1f1;\n",
       "}\n",
       "#T_d7979_row0_col1, #T_d7979_row0_col2, #T_d7979_row2_col0 {\n",
       "  background-color: #f7fcfd;\n",
       "  color: #000000;\n",
       "}\n",
       "#T_d7979_row1_col0 {\n",
       "  background-color: #00692a;\n",
       "  color: #f1f1f1;\n",
       "}\n",
       "#T_d7979_row1_col1 {\n",
       "  background-color: #28914d;\n",
       "  color: #f1f1f1;\n",
       "}\n",
       "#T_d7979_row1_col2 {\n",
       "  background-color: #b2e2d7;\n",
       "  color: #000000;\n",
       "}\n",
       "</style>\n",
       "<table id=\"T_d7979\">\n",
       "  <caption>Tackle Success Rate Matrix</caption>\n",
       "  <thead>\n",
       "    <tr>\n",
       "      <th class=\"blank level0\" >&nbsp;</th>\n",
       "      <th id=\"T_d7979_level0_col0\" class=\"col_heading level0 col0\" >tSlowed</th>\n",
       "      <th id=\"T_d7979_level0_col1\" class=\"col_heading level0 col1\" >tSteady</th>\n",
       "      <th id=\"T_d7979_level0_col2\" class=\"col_heading level0 col2\" >tIncrease</th>\n",
       "    </tr>\n",
       "  </thead>\n",
       "  <tbody>\n",
       "    <tr>\n",
       "      <th id=\"T_d7979_level0_row0\" class=\"row_heading level0 row0\" >cSlowed</th>\n",
       "      <td id=\"T_d7979_row0_col0\" class=\"data row0 col0\" >0.680000</td>\n",
       "      <td id=\"T_d7979_row0_col1\" class=\"data row0 col1\" >0.730000</td>\n",
       "      <td id=\"T_d7979_row0_col2\" class=\"data row0 col2\" >0.500000</td>\n",
       "    </tr>\n",
       "    <tr>\n",
       "      <th id=\"T_d7979_level0_row1\" class=\"row_heading level0 row1\" >cSteady</th>\n",
       "      <td id=\"T_d7979_row1_col0\" class=\"data row1 col0\" >0.630000</td>\n",
       "      <td id=\"T_d7979_row1_col1\" class=\"data row1 col1\" >0.810000</td>\n",
       "      <td id=\"T_d7979_row1_col2\" class=\"data row1 col2\" >0.600000</td>\n",
       "    </tr>\n",
       "    <tr>\n",
       "      <th id=\"T_d7979_level0_row2\" class=\"row_heading level0 row2\" >cIncrease</th>\n",
       "      <td id=\"T_d7979_row2_col0\" class=\"data row2 col0\" >0.250000</td>\n",
       "      <td id=\"T_d7979_row2_col1\" class=\"data row2 col1\" >0.840000</td>\n",
       "      <td id=\"T_d7979_row2_col2\" class=\"data row2 col2\" >0.820000</td>\n",
       "    </tr>\n",
       "  </tbody>\n",
       "</table>\n"
      ],
      "text/plain": [
       "<pandas.io.formats.style.Styler at 0x1caf45e1c90>"
      ]
     },
     "metadata": {},
     "output_type": "display_data"
    }
   ],
   "source": [
    "\n",
    "\n",
    "import pandas as pd\n",
    "import datetime\n",
    "import numpy as np\n",
    "import os\n",
    "import seaborn as sns\n",
    "from sklearn.feature_selection import chi2\n",
    "import warnings\n",
    "from IPython.display import display\n",
    "warnings.filterwarnings('ignore')\n",
    "\n",
    "dfOFT = pd.read_csv('C:\\\\Users\\\\austi\\\\Documents\\\\2024_Data_Bowl\\\\Data_Exploration\\\\chi_data.csv')\n",
    "\n",
    "X = dfOFT[['tSlowed']]\n",
    "y = dfOFT['tackle']\n",
    "\n",
    "slow_observed = pd.crosstab(X.tSlowed, y, margins=False)\n",
    "slow_expected = pd.crosstab(X.tSlowed, y, margins=False)\n",
    "\n",
    "for row in range(0, slow_expected.shape[0]):\n",
    "    for column in range(0, slow_expected.shape[1]):\n",
    "        exp = (np.sum(slow_observed.iloc[row, :]) * np.sum(slow_observed.iloc[:, column])) / 225\n",
    "        slow_expected.iloc[row, column] = exp\n",
    "   \n",
    "\n",
    "chi_scores = chi2(X,y)\n",
    "chi_values = pd.Series(chi_scores[0], index=X.columns)\n",
    "chi_values.sort_values(ascending=False, inplace=True)\n",
    "chi_slow=chi_values[0].item()\n",
    "\n",
    "p_values = pd.Series(chi_scores[1], index=X.columns)\n",
    "p_values.sort_values(ascending=False, inplace=True)\n",
    "p_slow=p_values[0].item()\n",
    "\n",
    "dfAccMatrix = pd.DataFrame({'tSlowed':[0.68,0.63,0.25], 'tSteady':[0.73,0.81,0.84], 'tIncrease':[0.50, 0.60, 0.82]}, index = ['cSlowed', 'cSteady', 'cIncrease'])\n",
    "dfAccMatrix = dfAccMatrix.style.set_caption(\"Tackle Success Rate Matrix\").background_gradient(cmap='BuGn')\n",
    "dfAccMatrix = dfAccMatrix\n",
    "display(dfAccMatrix)\n",
    "\n",
    "\n",
    "\n",
    "X2 = dfOFT[['tSteady']]\n",
    "\n",
    "stead_observed = pd.crosstab(X2.tSteady, y, margins=False)\n",
    "stead_expected = pd.crosstab(X2.tSteady, y, margins=False)\n",
    "\n",
    "for row in range(0, stead_expected.shape[0]):\n",
    "    for column in range(0, stead_expected.shape[1]):\n",
    "        exp = (np.sum(stead_observed.iloc[row, :]) * np.sum(stead_observed.iloc[:, column])) / 225\n",
    "        stead_expected.iloc[row, column] = exp\n",
    "\n",
    "chi_scores = chi2(X2,y)\n",
    "chi_values = pd.Series(chi_scores[0], index=X2.columns)\n",
    "chi_values.sort_values(ascending=False, inplace=True)\n",
    "chi_stead=chi_values[0].item()\n",
    "\n",
    "p_values = pd.Series(chi_scores[1], index=X2.columns)\n",
    "p_values.sort_values(ascending=False, inplace=True)\n",
    "p_stead=p_values[0].item()"
   ]
  }
 ],
 "metadata": {
  "kernelspec": {
   "display_name": "Python 3 (ipykernel)",
   "language": "python",
   "name": "python3"
  },
  "language_info": {
   "codemirror_mode": {
    "name": "ipython",
    "version": 3
   },
   "file_extension": ".py",
   "mimetype": "text/x-python",
   "name": "python",
   "nbconvert_exporter": "python",
   "pygments_lexer": "ipython3",
   "version": "3.11.5"
  }
 },
 "nbformat": 4,
 "nbformat_minor": 5
}
